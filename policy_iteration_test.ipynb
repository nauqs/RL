{
  "cells": [
    {
      "cell_type": "markdown",
      "metadata": {
        "id": "gRuyOu0wugJk"
      },
      "source": [
        "# Policy iteration"
      ]
    },
    {
      "cell_type": "code",
      "execution_count": 67,
      "metadata": {
        "id": "nDue3rM5qaxW"
      },
      "outputs": [],
      "source": [
        "import numpy as np\n",
        "import matplotlib.pyplot as plt"
      ]
    },
    {
      "cell_type": "code",
      "execution_count": 68,
      "metadata": {
        "id": "cnGt6PEDu8vW"
      },
      "outputs": [],
      "source": [
        "W = -100\n",
        "G = 100\n",
        "GRID_LAYOUT = np.array([\n",
        "  [W, W, W, W, W, W, W, W, W, W, W, W],\n",
        "  [W, W, 0, W, W, W, W, W, W, 0, W, W],\n",
        "  [W, 0, 0, 0, 0, 0, 0, 0, 0, G, 0, W],\n",
        "  [W, 0, 0, 0, W, W, W, W, 0, 0, 0, W],\n",
        "  [W, 0, 0, 0, W, W, W, W, 0, 0, 0, W],\n",
        "  [W, 0, 0, 0, 0, 0, 0, 0, 0, 0, 0, W],\n",
        "  [W, 0, 0, 0, 0, 0, 0, 0, 0, 0, 0, W],\n",
        "  [W, W, 0, 0, 0, 0, 0, 0, 0, 0, W, W],\n",
        "  [W, W, W, W, W, W, W, W, W, W, W, W]\n",
        "])\n",
        "\n",
        "WALLS = list(np.where(GRID_LAYOUT.flatten()==W)[0])\n",
        "N_obs = np.prod(GRID_LAYOUT.shape)\n"
      ]
    },
    {
      "cell_type": "markdown",
      "metadata": {
        "id": "EeDI9Jf1uxcV"
      },
      "source": [
        "## Policy improvement"
      ]
    },
    {
      "cell_type": "markdown",
      "metadata": {
        "id": "S25hB2JdKsT6"
      },
      "source": [
        "### Helper functions"
      ]
    },
    {
      "cell_type": "code",
      "execution_count": 69,
      "metadata": {
        "id": "bXvIQx8VGQA1"
      },
      "outputs": [],
      "source": [
        "def move(state, action):\n",
        "  if state == 33: \n",
        "    return 33, 0, True\n",
        "  if state in WALLS: \n",
        "    return state, 0, False\n",
        "\n",
        "  if action == 0:\n",
        "    new_state = state - 12\n",
        "  elif action == 1:\n",
        "    new_state = state + 1\n",
        "  elif action == 2:\n",
        "    new_state = state + 12\n",
        "  else:\n",
        "    new_state = state - 1\n",
        "\n",
        "  if new_state in WALLS: \n",
        "    return state, -100, False\n",
        "  if new_state == 33:\n",
        "    return new_state, 100, True\n",
        "  \n",
        "  return new_state, 0, False\n",
        "\n",
        "def greedification(value_function):\n",
        "\n",
        "  policy = np.zeros((N_obs,4), dtype=float)\n",
        "\n",
        "  for state in range(N_obs-1):\n",
        "      next_states = [move(state, a) for a in range(4)]\n",
        "      next_values = [value_function[x[0]]+x[1] for x in next_states]\n",
        "      policy[state] = np.zeros(4)\n",
        "      policy[state][np.argmax(next_values)] = 1.\n",
        "\n",
        "  return policy"
      ]
    },
    {
      "cell_type": "markdown",
      "metadata": {
        "id": "_4yZRnb3vXDQ"
      },
      "source": [
        "### Policy iteration"
      ]
    },
    {
      "cell_type": "code",
      "execution_count": 70,
      "metadata": {
        "colab": {
          "base_uri": "https://localhost:8080/"
        },
        "id": "BuHBRyy5RHzB",
        "outputId": "5d300190-a907-4c55-c0e1-25a5fca545f6"
      },
      "outputs": [
        {
          "name": "stdout",
          "output_type": "stream",
          "text": [
            "Iter 0\n"
          ]
        }
      ],
      "source": [
        "#Define parameters\n",
        "discount_factor = 0.9\n",
        "max_iterations = 10\n",
        "max_eval_iterations = 100\n",
        "alpha = 0.1\n",
        "\n",
        "#Initialize the policy and value function with zeros\n",
        "policy = np.ones((N_obs, 4))/4\n",
        "#policy = np.zeros(N_obs)\n",
        "value_function = np.zeros(N_obs)\n",
        "\n",
        "#Perform policy iteration\n",
        "for i in range(max_iterations):\n",
        "  if i%5==0: print(\"Iter\", i)\n",
        "\n",
        "  value_function = np.zeros(N_obs)\n",
        "  new_value_function = np.zeros(N_obs)\n",
        "  \n",
        "  # Policy evaluation\n",
        "  for _ in range(max_eval_iterations):\n",
        "    for state in range(N_obs-1):\n",
        "        # Determine next state based on current policy (sample from policy[state])\n",
        "        action = np.random.choice(4, p=policy[state])\n",
        "        next_state, reward, done = move(state, action)\n",
        "        TD_error = reward + discount_factor * value_function[next_state] - value_function[state]\n",
        "        new_value_function[state] += alpha * TD_error\n",
        "\n",
        "    if np.all(np.isclose(value_function, new_value_function)): break\n",
        "\n",
        "    value_function = new_value_function.copy()\n",
        "\n",
        "  #print(np.round(value_function))\n",
        "  grid_to_show = value_function\n",
        "  grid_to_show[WALLS] = -1e20\n",
        "  vmin = -400 if i == 0 else -50\n",
        "  plt.imshow(grid_to_show.reshape(9,12), vmin=vmin, vmax=100, cmap='pink', aspect='auto')\n",
        "  plt.colorbar()\n",
        "  plt.show()\n",
        "\n",
        "  # Policy improvement (greedy)\n",
        "  new_policy = greedification(value_function)\n",
        "\n",
        "  if np.all(policy==new_policy):\n",
        "    break\n",
        "  \n",
        "  policy = new_policy\n",
        "\n",
        "print(f\"Finished at {i} iters\")"
      ]
    },
    {
      "cell_type": "code",
      "execution_count": null,
      "metadata": {
        "colab": {
          "base_uri": "https://localhost:8080/",
          "height": 286
        },
        "id": "n6wWkGu_I98v",
        "outputId": "c74608d9-2e42-446d-ed35-947be726da13"
      },
      "outputs": [
        {
          "data": {
            "image/png": "[encoded data removed]",
            "text/plain": [
              "<Figure size 640x480 with 2 Axes>"
            ]
          },
          "metadata": {},
          "output_type": "display_data"
        }
      ],
      "source": [
        "def get_policy_arrows(policy):\n",
        "  mapping = {\n",
        "      0: \"\\u2191\",\n",
        "      1: \"\\u2192\",\n",
        "      2: \"\\u2193\",\n",
        "      3: \"\\u2190\"\n",
        "  }\n",
        "  arr = np.vectorize(mapping.get)(policy)\n",
        "  arr[33] = \"G\"\n",
        "  arr[26] = \"S\"\n",
        "  return arr.reshape(9,12)\n",
        "\n",
        "grid_to_show[33] = 100\n",
        "plt.imshow(grid_to_show.reshape(9,12), vmin=0, vmax=100, cmap='pink', aspect='auto')\n",
        "plt.colorbar()\n",
        "\n",
        "for i in range(9):\n",
        "    for j in range(12):\n",
        "        # print text policy_arrows in the grid plot\n",
        "        plt.text(j, i, get_policy_arrows(policy.argmax(axis=1))[i,j], ha='center', va='center', color='black', fontsize=15)\n",
        "plt.show()"
      ]
    },
    {
      "cell_type": "code",
      "execution_count": null,
      "metadata": {},
      "outputs": [],
      "source": []
    }
  ],
  "metadata": {
    "colab": {
      "collapsed_sections": [
        "S25hB2JdKsT6"
      ],
      "provenance": []
    },
    "kernelspec": {
      "display_name": "Python 3",
      "name": "python3"
    },
    "language_info": {
      "codemirror_mode": {
        "name": "ipython",
        "version": 3
      },
      "file_extension": ".py",
      "mimetype": "text/x-python",
      "name": "python",
      "nbconvert_exporter": "python",
      "pygments_lexer": "ipython3",
      "version": "3.10.9"
    }
  },
  "nbformat": 4,
  "nbformat_minor": 0
}
